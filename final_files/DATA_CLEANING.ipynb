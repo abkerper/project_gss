{
  "nbformat": 4,
  "nbformat_minor": 0,
  "metadata": {
    "colab": {
      "provenance": [],
      "include_colab_link": true
    },
    "kernelspec": {
      "name": "python3",
      "display_name": "Python 3"
    },
    "language_info": {
      "name": "python"
    }
  },
  "cells": [
    {
      "cell_type": "markdown",
      "metadata": {
        "id": "view-in-github",
        "colab_type": "text"
      },
      "source": [
        "<a href=\"https://colab.research.google.com/github/abkerper/project_gss/blob/main/final_files/DATA_CLEANING.ipynb\" target=\"_parent\"><img src=\"https://colab.research.google.com/assets/colab-badge.svg\" alt=\"Open In Colab\"/></a>"
      ]
    },
    {
      "cell_type": "code",
      "source": [
        "import numpy as np\n",
        "import pandas as pd\n",
        "import matplotlib.pyplot as plt\n",
        "import seaborn as sns"
      ],
      "metadata": {
        "id": "wb3O0vT9TnMp"
      },
      "execution_count": null,
      "outputs": []
    },
    {
      "cell_type": "markdown",
      "source": [
        "Data for this study comes from the General Social Survey (GSS), a survey that is carried out through interviews with a cross-section of the US population. The interviews have taken place since 1972 and the organization conducting the survey has kept the methodology consistent over the duration of testing. Questions that remain on the interview are asked in the same manner every year as to not influence results and questions that are newly added are not asked retrospectively to past interviewees. This is a likely source of some null entries seen in the data set, as the question that we are using as a dependent variable was a more recent question. Removing the null values in this situation is valid, as the missing values were missing simply because there was not an opportunity to answer. Also, since we are not comparing change over time in this study, eliminating all early entries before the question appeared on the survey does not affect the results, and is essential for our analysis."
      ],
      "metadata": {
        "id": "oLZprs7X8_z5"
      }
    },
    {
      "cell_type": "code",
      "execution_count": null,
      "metadata": {
        "id": "lR0XI0pETbjQ"
      },
      "outputs": [],
      "source": [
        "df1_og= pd.read_parquet('/content/gss_chunk_1.parquet', engine='pyarrow')\n",
        "df2_og = pd.read_parquet('/content/gss_chunk_2.parquet', engine='pyarrow')\n",
        "df3_og = pd.read_parquet('/content/gss_chunk_3.parquet', engine='pyarrow')"
      ]
    },
    {
      "cell_type": "code",
      "source": [
        "#make dummy variables of the data\n",
        "df1 = df1_og\n",
        "df2 = df2_og\n",
        "df3 = df3_og"
      ],
      "metadata": {
        "id": "Lr0mmBQlTyUS"
      },
      "execution_count": null,
      "outputs": []
    },
    {
      "cell_type": "code",
      "source": [
        "df = pd.concat([df1, df2, df3], ignore_index = True ) #concatonate the 3 data files into 1 file"
      ],
      "metadata": {
        "id": "6L9_2vXLG_wR"
      },
      "execution_count": null,
      "outputs": []
    },
    {
      "cell_type": "markdown",
      "source": [
        "**Cappun**\n",
        "\n",
        "\n",
        "Our dependent variable measures whether individuals in the GSS favor or oppose the death penalty. The specific question asked in the survey was: “Do you favor or oppose the death penalty for persons convicted of murder?” Values containing missing data were changed to “nan.”\n"
      ],
      "metadata": {
        "id": "CreoqYPy9Fax"
      }
    },
    {
      "cell_type": "code",
      "source": [
        "print(df['cappun'].value_counts())"
      ],
      "metadata": {
        "colab": {
          "base_uri": "https://localhost:8080/"
        },
        "id": "xXPNXUwgGI3i",
        "outputId": "ff08f122-a02d-4f43-d337-f1aa36414ec1"
      },
      "execution_count": null,
      "outputs": [
        {
          "output_type": "stream",
          "name": "stdout",
          "text": [
            "favor                            42181\n",
            "oppose                           18666\n",
            "don't know                           0\n",
            "iap                                  0\n",
            "I don't have a job                   0\n",
            "dk, na, iap                          0\n",
            "no answer                            0\n",
            "not imputable_(2147483637)           0\n",
            "not imputable_(2147483638)           0\n",
            "refused                              0\n",
            "skipped on web                       0\n",
            "uncodeable                           0\n",
            "not available in this release        0\n",
            "not available in this year           0\n",
            "see codebook                         0\n",
            "Name: cappun, dtype: int64\n"
          ]
        }
      ]
    },
    {
      "cell_type": "code",
      "source": [
        "#clean cappun\n",
        "cappun = df['cappun']\n",
        "cappun = cappun.replace(['no answer', 'don\\'t know','iap','refused','skipped on web', 'I don\\'t have a job', 'dk, na, iap', 'not imputable_(2147483637)', 'not imputable_(2147483638)', 'uncodeable', 'not available in this release', 'not available in this year', 'see codebook'], np.nan)\n",
        "cappun.value_counts() #droppped missing values"
      ],
      "metadata": {
        "colab": {
          "base_uri": "https://localhost:8080/"
        },
        "id": "4z9QNsoHGJlU",
        "outputId": "56d2ced8-80d7-4ccf-b898-461d0912eedd"
      },
      "execution_count": null,
      "outputs": [
        {
          "output_type": "execute_result",
          "data": {
            "text/plain": [
              "favor     42181\n",
              "oppose    18666\n",
              "Name: cappun, dtype: int64"
            ]
          },
          "metadata": {},
          "execution_count": 6
        }
      ]
    },
    {
      "cell_type": "code",
      "source": [
        "df['cappun'] = cappun #put cleaned variable back in df"
      ],
      "metadata": {
        "id": "5Rv_aHKFGNAX"
      },
      "execution_count": null,
      "outputs": []
    },
    {
      "cell_type": "markdown",
      "source": [
        "**Age**\n",
        "\n",
        "Each individual who took the survey entered their age. We cleaned the age variable so that it is grouped into individuals ages 18-29, 30-39, 40-49, 50-64, and 65-89. We chose these age clusters because they were given in the GSS Codebook. All the zero values for age were replaced with “nan.”\n",
        "\n"
      ],
      "metadata": {
        "id": "Ft_TGMsd9JQn"
      }
    },
    {
      "cell_type": "code",
      "source": [
        "#clean age\n",
        "df1['age_category'] = df1['age']\n",
        "df2['age_category'] = df2['age']\n",
        "df3['age_category'] = df3['age']"
      ],
      "metadata": {
        "id": "PehaqhwSdZ55"
      },
      "execution_count": null,
      "outputs": []
    },
    {
      "cell_type": "code",
      "source": [
        "for df in [df1, df2, df3]: #make age categories\n",
        "  df.loc[(df['age'] >= 18) & (df['age'] <= 29), 'age_category'] = 1\n",
        "  df.loc[(df['age'] >= 30) & (df['age'] <= 39), 'age_category'] = 2\n",
        "  df.loc[(df['age'] >= 40) & (df['age'] <= 49), 'age_category'] = 3\n",
        "  df.loc[(df['age'] >= 50) & (df['age'] <= 64), 'age_category'] = 4\n",
        "  df.loc[(df['age'] >= 60) & (df['age'] <= 89), 'age_category'] = 5"
      ],
      "metadata": {
        "id": "S_qlX1wMX5d9"
      },
      "execution_count": null,
      "outputs": []
    },
    {
      "cell_type": "code",
      "source": [
        "for df in [df1, df2, df3]: #replace 0 values with nan\n",
        "  df['age'].replace(0, np.nan)\n",
        "  df['age_category'].replace(0, np.nan)"
      ],
      "metadata": {
        "id": "avJtuaX7Jate"
      },
      "execution_count": null,
      "outputs": []
    },
    {
      "cell_type": "code",
      "source": [
        "age_category = df['age_category']\n",
        "print(age_category.value_counts())"
      ],
      "metadata": {
        "id": "POMOgo4v7Qqb",
        "outputId": "ceefc6b1-cb98-43d7-e7a6-ac02809dbf27",
        "colab": {
          "base_uri": "https://localhost:8080/"
        }
      },
      "execution_count": null,
      "outputs": [
        {
          "output_type": "stream",
          "name": "stdout",
          "text": [
            "5.0    7160\n",
            "2.0    4385\n",
            "4.0    4184\n",
            "3.0    4035\n",
            "1.0    3775\n",
            "Name: age_category, dtype: int64\n"
          ]
        }
      ]
    },
    {
      "cell_type": "code",
      "source": [
        "df['age_category'] = age_category #put cleaned variable back in df"
      ],
      "metadata": {
        "id": "Tt5XIQ7QNBTx"
      },
      "execution_count": null,
      "outputs": []
    },
    {
      "cell_type": "markdown",
      "source": [
        "**Polviews**\n",
        "\n",
        "\n",
        "Individuals were asked “We hear a lot of talk these days about liberals and conservatives. I'm going to show you a seven-point scale on which the political views that people might hold are arranged from extremely liberal--point 1--to extremely conservative--point 7. Where would you place yourself on this scale?” The variable takes the values extremely conservative, conservative,  slightly conservative, moderate, slightly liberal, liberal, and extremely liberal. Values containing missing data were changed to “nan.”\n"
      ],
      "metadata": {
        "id": "EBTDOoAm9dxa"
      }
    },
    {
      "cell_type": "code",
      "source": [
        "print(df['polviews'].value_counts())"
      ],
      "metadata": {
        "id": "1aO8CM0d-Ei8",
        "outputId": "78ee0c83-e8cd-4cff-94c0-78c53db0700a",
        "colab": {
          "base_uri": "https://localhost:8080/"
        }
      },
      "execution_count": null,
      "outputs": [
        {
          "output_type": "stream",
          "name": "stdout",
          "text": [
            "moderate, middle of the road     8713\n",
            "conservative                     3679\n",
            "liberal                          3076\n",
            "slightly conservative            3075\n",
            "slightly liberal                 2673\n",
            "extremely liberal                1043\n",
            "extremely conservative           1003\n",
            "not imputable_(2147483638)          0\n",
            "not available in this year          0\n",
            "not available in this release       0\n",
            "uncodeable                          0\n",
            "skipped on web                      0\n",
            "refused                             0\n",
            "dk, na, iap                         0\n",
            "not imputable_(2147483637)          0\n",
            "no answer                           0\n",
            "I don't have a job                  0\n",
            "iap                                 0\n",
            "don't know                          0\n",
            "see codebook                        0\n",
            "Name: polviews, dtype: int64\n"
          ]
        }
      ]
    },
    {
      "cell_type": "code",
      "source": [
        "polviews = df['polviews']\n",
        "polviews = polviews.replace(['no answer', 'don\\'t know','iap','refused','skipped on web', 'I don\\'t have a job', 'dk, na, iap', 'not imputable_(2147483637)', 'not imputable_(2147483638)', 'uncodeable', 'not available in this release', 'not available in this year', 'see codebook'], np.nan)\n",
        "polviews.value_counts() #dropped missing values"
      ],
      "metadata": {
        "id": "QgH4xhFL9xne",
        "colab": {
          "base_uri": "https://localhost:8080/"
        },
        "outputId": "cb64aae2-1305-4373-8fe7-54bd8496f751"
      },
      "execution_count": null,
      "outputs": [
        {
          "output_type": "execute_result",
          "data": {
            "text/plain": [
              "moderate, middle of the road    8713\n",
              "conservative                    3679\n",
              "liberal                         3076\n",
              "slightly conservative           3075\n",
              "slightly liberal                2673\n",
              "extremely liberal               1043\n",
              "extremely conservative          1003\n",
              "Name: polviews, dtype: int64"
            ]
          },
          "metadata": {},
          "execution_count": 14
        }
      ]
    },
    {
      "cell_type": "code",
      "source": [
        "df['polviews'] = polviews #put cleaned variable back in df"
      ],
      "metadata": {
        "id": "s77mUcP-IZvr"
      },
      "execution_count": null,
      "outputs": []
    },
    {
      "cell_type": "markdown",
      "source": [
        "**Relig**\n",
        "\n",
        "\n",
        "Individuals were asked about their religious preference: “What is your religious preference? Is it Protestant, Catholic, Jewish, some other religion, or no religion?” The variable takes the values protestant, catholic,  jewish, christian,  buddhist, muslim/islam, hindu, native american, or none/other. Values containing missing data were changed to “nan.”\n",
        "\n"
      ],
      "metadata": {
        "id": "nhxmTd099kd2"
      }
    },
    {
      "cell_type": "code",
      "source": [
        "print(df['relig'].value_counts())"
      ],
      "metadata": {
        "id": "7Rm6Oz4UH8eh",
        "outputId": "4632f67e-68cd-4aa5-c78c-6b4d2c4ad98e",
        "colab": {
          "base_uri": "https://localhost:8080/"
        }
      },
      "execution_count": null,
      "outputs": [
        {
          "output_type": "stream",
          "name": "stdout",
          "text": [
            "protestant                       11173\n",
            "none                              5326\n",
            "catholic                          5264\n",
            "christian                          745\n",
            "jewish                             392\n",
            "other                              308\n",
            "buddhism                           200\n",
            "muslim/islam                       136\n",
            "hinduism                           117\n",
            "orthodox-christian                 110\n",
            "inter-nondenominational             64\n",
            "other eastern religions             25\n",
            "native american                     23\n",
            "not imputable_(2147483638)           0\n",
            "not available in this year           0\n",
            "not available in this release        0\n",
            "uncodeable                           0\n",
            "skipped on web                       0\n",
            "refused                              0\n",
            "don't know                           0\n",
            "not imputable_(2147483637)           0\n",
            "no answer                            0\n",
            "dk, na, iap                          0\n",
            "I don't have a job                   0\n",
            "iap                                  0\n",
            "see codebook                         0\n",
            "Name: relig, dtype: int64\n"
          ]
        }
      ]
    },
    {
      "cell_type": "code",
      "source": [
        "#clean relig\n",
        "relig = df['relig']\n",
        "relig = relig.replace(['not imputable_(2147483638)' , #drop missing values\n",
        "                       'not available in this year' ,\n",
        "                       'not available in this release' ,\n",
        "                       'uncodeable' ,\n",
        "                       'skipped on web' ,\n",
        "                       'refused' ,\n",
        "                       \"don't know\" ,\n",
        "                       'not imputable_(2147483637)' ,\n",
        "                       'no answer' ,\n",
        "                       'dk, na, iap' ,\n",
        "                       \"I don't have a job\" ,\n",
        "                       'iap' ,\n",
        "                       'see codebook'], np.nan)\n",
        "relig.value_counts()"
      ],
      "metadata": {
        "id": "UGRP9tujIAbX",
        "outputId": "3f6ceeab-a70d-4f6d-97a3-dca5e3b6a641",
        "colab": {
          "base_uri": "https://localhost:8080/"
        }
      },
      "execution_count": null,
      "outputs": [
        {
          "output_type": "execute_result",
          "data": {
            "text/plain": [
              "protestant                 11173\n",
              "none                        5326\n",
              "catholic                    5264\n",
              "christian                    745\n",
              "jewish                       392\n",
              "other                        308\n",
              "buddhism                     200\n",
              "muslim/islam                 136\n",
              "hinduism                     117\n",
              "orthodox-christian           110\n",
              "inter-nondenominational       64\n",
              "other eastern religions       25\n",
              "native american               23\n",
              "Name: relig, dtype: int64"
            ]
          },
          "metadata": {},
          "execution_count": 17
        }
      ]
    },
    {
      "cell_type": "code",
      "source": [
        "relig = relig.replace(['christian', 'inter-nondenominational', 'orthodox-christian'], 'christianity') #combine Christian religions to one variable\n",
        "relig = relig.replace(['none', 'other', 'other eastern religions'], 'none/other') #combine none/other religions\n",
        "relig.value_counts()"
      ],
      "metadata": {
        "id": "-9Bawy5GIOJO",
        "outputId": "0d8bc820-60c5-44ac-e894-898c022014f8",
        "colab": {
          "base_uri": "https://localhost:8080/"
        }
      },
      "execution_count": null,
      "outputs": [
        {
          "output_type": "execute_result",
          "data": {
            "text/plain": [
              "protestant         11173\n",
              "none/other          5659\n",
              "catholic            5264\n",
              "christianity         919\n",
              "jewish               392\n",
              "buddhism             200\n",
              "muslim/islam         136\n",
              "hinduism             117\n",
              "native american       23\n",
              "Name: relig, dtype: int64"
            ]
          },
          "metadata": {},
          "execution_count": 18
        }
      ]
    },
    {
      "cell_type": "code",
      "source": [
        "df['relig'] = relig #put cleaned variable back in df"
      ],
      "metadata": {
        "id": "GGBoulkNII-x"
      },
      "execution_count": null,
      "outputs": []
    },
    {
      "cell_type": "code",
      "source": [
        "print(pd.crosstab(cappun,relig),'\\n')\n",
        "print(pd.crosstab(cappun,polviews),'\\n')\n",
        "print(pd.crosstab(cappun,age_category, normalize = 'all'),'\\n')"
      ],
      "metadata": {
        "id": "awBRVCsi7fNk",
        "outputId": "e64951a5-9bc8-4640-df86-19a34595914c",
        "colab": {
          "base_uri": "https://localhost:8080/"
        }
      },
      "execution_count": null,
      "outputs": [
        {
          "output_type": "stream",
          "name": "stdout",
          "text": [
            "relig   protestant  catholic  jewish  none/other  buddhism  hinduism  \\\n",
            "cappun                                                                 \n",
            "favor         6432      3086     236        3501       107        79   \n",
            "oppose        2456      1216      99        1296        51        27   \n",
            "\n",
            "relig   muslim/islam  christianity  native american  \n",
            "cappun                                               \n",
            "favor             90           557               15  \n",
            "oppose            26           216                5   \n",
            "\n",
            "polviews  extremely liberal  liberal  slightly liberal  \\\n",
            "cappun                                                   \n",
            "favor                   635     1824              1596   \n",
            "oppose                  256      714               617   \n",
            "\n",
            "polviews  moderate, middle of the road  slightly conservative  conservative  \\\n",
            "cappun                                                                        \n",
            "favor                             5195                   1785          2137   \n",
            "oppose                            1912                    700           847   \n",
            "\n",
            "polviews  extremely conservative  \n",
            "cappun                            \n",
            "favor                        590  \n",
            "oppose                       221   \n",
            "\n",
            "age_category       1.0       2.0       3.0       4.0       5.0\n",
            "cappun                                                        \n",
            "favor         0.114026  0.134213  0.118512  0.127119  0.229044\n",
            "oppose        0.044390  0.051536  0.048198  0.050128  0.082833 \n",
            "\n"
          ]
        }
      ]
    },
    {
      "cell_type": "code",
      "source": [
        "modes = ['w','a'] # Has write mode and append mode\n",
        "phase = 0\n",
        "\n",
        "#import clean data back to csv\n",
        "var_list = ['cappun', 'relig','age_category','polviews']\n",
        "df.loc[:,var_list].to_csv('cleaned_data.csv', # specifies target file to save the chunk to\n",
        "                              mode=modes[phase], # control write versus append\n",
        "                              header=var_list, # variable names\n",
        "                              index=False)"
      ],
      "metadata": {
        "id": "VChj3xNSEcJN"
      },
      "execution_count": null,
      "outputs": []
    },
    {
      "cell_type": "code",
      "source": [
        "cpd = pd.read_csv('/content/cleaned_data.csv')\n",
        "cpd.head()"
      ],
      "metadata": {
        "id": "EnpQYa7--rv0",
        "outputId": "bd6d392f-e9ce-4e26-9ca9-a11c9070095f",
        "colab": {
          "base_uri": "https://localhost:8080/",
          "height": 206
        }
      },
      "execution_count": null,
      "outputs": [
        {
          "output_type": "execute_result",
          "data": {
            "text/plain": [
              "   cappun         relig  age_category                      polviews\n",
              "0     NaN  christianity           3.0  moderate, middle of the road\n",
              "1   favor    none/other           1.0              slightly liberal\n",
              "2   favor      catholic           3.0         slightly conservative\n",
              "3     NaN    protestant           1.0                       liberal\n",
              "4  oppose      catholic           1.0         slightly conservative"
            ],
            "text/html": [
              "\n",
              "  <div id=\"df-126673b7-7a18-4c41-b9f4-3f15e8e19c33\" class=\"colab-df-container\">\n",
              "    <div>\n",
              "<style scoped>\n",
              "    .dataframe tbody tr th:only-of-type {\n",
              "        vertical-align: middle;\n",
              "    }\n",
              "\n",
              "    .dataframe tbody tr th {\n",
              "        vertical-align: top;\n",
              "    }\n",
              "\n",
              "    .dataframe thead th {\n",
              "        text-align: right;\n",
              "    }\n",
              "</style>\n",
              "<table border=\"1\" class=\"dataframe\">\n",
              "  <thead>\n",
              "    <tr style=\"text-align: right;\">\n",
              "      <th></th>\n",
              "      <th>cappun</th>\n",
              "      <th>relig</th>\n",
              "      <th>age_category</th>\n",
              "      <th>polviews</th>\n",
              "    </tr>\n",
              "  </thead>\n",
              "  <tbody>\n",
              "    <tr>\n",
              "      <th>0</th>\n",
              "      <td>NaN</td>\n",
              "      <td>christianity</td>\n",
              "      <td>3.0</td>\n",
              "      <td>moderate, middle of the road</td>\n",
              "    </tr>\n",
              "    <tr>\n",
              "      <th>1</th>\n",
              "      <td>favor</td>\n",
              "      <td>none/other</td>\n",
              "      <td>1.0</td>\n",
              "      <td>slightly liberal</td>\n",
              "    </tr>\n",
              "    <tr>\n",
              "      <th>2</th>\n",
              "      <td>favor</td>\n",
              "      <td>catholic</td>\n",
              "      <td>3.0</td>\n",
              "      <td>slightly conservative</td>\n",
              "    </tr>\n",
              "    <tr>\n",
              "      <th>3</th>\n",
              "      <td>NaN</td>\n",
              "      <td>protestant</td>\n",
              "      <td>1.0</td>\n",
              "      <td>liberal</td>\n",
              "    </tr>\n",
              "    <tr>\n",
              "      <th>4</th>\n",
              "      <td>oppose</td>\n",
              "      <td>catholic</td>\n",
              "      <td>1.0</td>\n",
              "      <td>slightly conservative</td>\n",
              "    </tr>\n",
              "  </tbody>\n",
              "</table>\n",
              "</div>\n",
              "    <div class=\"colab-df-buttons\">\n",
              "\n",
              "  <div class=\"colab-df-container\">\n",
              "    <button class=\"colab-df-convert\" onclick=\"convertToInteractive('df-126673b7-7a18-4c41-b9f4-3f15e8e19c33')\"\n",
              "            title=\"Convert this dataframe to an interactive table.\"\n",
              "            style=\"display:none;\">\n",
              "\n",
              "  <svg xmlns=\"http://www.w3.org/2000/svg\" height=\"24px\" viewBox=\"0 -960 960 960\">\n",
              "    <path d=\"M120-120v-720h720v720H120Zm60-500h600v-160H180v160Zm220 220h160v-160H400v160Zm0 220h160v-160H400v160ZM180-400h160v-160H180v160Zm440 0h160v-160H620v160ZM180-180h160v-160H180v160Zm440 0h160v-160H620v160Z\"/>\n",
              "  </svg>\n",
              "    </button>\n",
              "\n",
              "  <style>\n",
              "    .colab-df-container {\n",
              "      display:flex;\n",
              "      gap: 12px;\n",
              "    }\n",
              "\n",
              "    .colab-df-convert {\n",
              "      background-color: #E8F0FE;\n",
              "      border: none;\n",
              "      border-radius: 50%;\n",
              "      cursor: pointer;\n",
              "      display: none;\n",
              "      fill: #1967D2;\n",
              "      height: 32px;\n",
              "      padding: 0 0 0 0;\n",
              "      width: 32px;\n",
              "    }\n",
              "\n",
              "    .colab-df-convert:hover {\n",
              "      background-color: #E2EBFA;\n",
              "      box-shadow: 0px 1px 2px rgba(60, 64, 67, 0.3), 0px 1px 3px 1px rgba(60, 64, 67, 0.15);\n",
              "      fill: #174EA6;\n",
              "    }\n",
              "\n",
              "    .colab-df-buttons div {\n",
              "      margin-bottom: 4px;\n",
              "    }\n",
              "\n",
              "    [theme=dark] .colab-df-convert {\n",
              "      background-color: #3B4455;\n",
              "      fill: #D2E3FC;\n",
              "    }\n",
              "\n",
              "    [theme=dark] .colab-df-convert:hover {\n",
              "      background-color: #434B5C;\n",
              "      box-shadow: 0px 1px 3px 1px rgba(0, 0, 0, 0.15);\n",
              "      filter: drop-shadow(0px 1px 2px rgba(0, 0, 0, 0.3));\n",
              "      fill: #FFFFFF;\n",
              "    }\n",
              "  </style>\n",
              "\n",
              "    <script>\n",
              "      const buttonEl =\n",
              "        document.querySelector('#df-126673b7-7a18-4c41-b9f4-3f15e8e19c33 button.colab-df-convert');\n",
              "      buttonEl.style.display =\n",
              "        google.colab.kernel.accessAllowed ? 'block' : 'none';\n",
              "\n",
              "      async function convertToInteractive(key) {\n",
              "        const element = document.querySelector('#df-126673b7-7a18-4c41-b9f4-3f15e8e19c33');\n",
              "        const dataTable =\n",
              "          await google.colab.kernel.invokeFunction('convertToInteractive',\n",
              "                                                    [key], {});\n",
              "        if (!dataTable) return;\n",
              "\n",
              "        const docLinkHtml = 'Like what you see? Visit the ' +\n",
              "          '<a target=\"_blank\" href=https://colab.research.google.com/notebooks/data_table.ipynb>data table notebook</a>'\n",
              "          + ' to learn more about interactive tables.';\n",
              "        element.innerHTML = '';\n",
              "        dataTable['output_type'] = 'display_data';\n",
              "        await google.colab.output.renderOutput(dataTable, element);\n",
              "        const docLink = document.createElement('div');\n",
              "        docLink.innerHTML = docLinkHtml;\n",
              "        element.appendChild(docLink);\n",
              "      }\n",
              "    </script>\n",
              "  </div>\n",
              "\n",
              "\n",
              "<div id=\"df-dec9fa03-bd6a-4b3d-b55f-0c1ea7fcc8d7\">\n",
              "  <button class=\"colab-df-quickchart\" onclick=\"quickchart('df-dec9fa03-bd6a-4b3d-b55f-0c1ea7fcc8d7')\"\n",
              "            title=\"Suggest charts\"\n",
              "            style=\"display:none;\">\n",
              "\n",
              "<svg xmlns=\"http://www.w3.org/2000/svg\" height=\"24px\"viewBox=\"0 0 24 24\"\n",
              "     width=\"24px\">\n",
              "    <g>\n",
              "        <path d=\"M19 3H5c-1.1 0-2 .9-2 2v14c0 1.1.9 2 2 2h14c1.1 0 2-.9 2-2V5c0-1.1-.9-2-2-2zM9 17H7v-7h2v7zm4 0h-2V7h2v10zm4 0h-2v-4h2v4z\"/>\n",
              "    </g>\n",
              "</svg>\n",
              "  </button>\n",
              "\n",
              "<style>\n",
              "  .colab-df-quickchart {\n",
              "      --bg-color: #E8F0FE;\n",
              "      --fill-color: #1967D2;\n",
              "      --hover-bg-color: #E2EBFA;\n",
              "      --hover-fill-color: #174EA6;\n",
              "      --disabled-fill-color: #AAA;\n",
              "      --disabled-bg-color: #DDD;\n",
              "  }\n",
              "\n",
              "  [theme=dark] .colab-df-quickchart {\n",
              "      --bg-color: #3B4455;\n",
              "      --fill-color: #D2E3FC;\n",
              "      --hover-bg-color: #434B5C;\n",
              "      --hover-fill-color: #FFFFFF;\n",
              "      --disabled-bg-color: #3B4455;\n",
              "      --disabled-fill-color: #666;\n",
              "  }\n",
              "\n",
              "  .colab-df-quickchart {\n",
              "    background-color: var(--bg-color);\n",
              "    border: none;\n",
              "    border-radius: 50%;\n",
              "    cursor: pointer;\n",
              "    display: none;\n",
              "    fill: var(--fill-color);\n",
              "    height: 32px;\n",
              "    padding: 0;\n",
              "    width: 32px;\n",
              "  }\n",
              "\n",
              "  .colab-df-quickchart:hover {\n",
              "    background-color: var(--hover-bg-color);\n",
              "    box-shadow: 0 1px 2px rgba(60, 64, 67, 0.3), 0 1px 3px 1px rgba(60, 64, 67, 0.15);\n",
              "    fill: var(--button-hover-fill-color);\n",
              "  }\n",
              "\n",
              "  .colab-df-quickchart-complete:disabled,\n",
              "  .colab-df-quickchart-complete:disabled:hover {\n",
              "    background-color: var(--disabled-bg-color);\n",
              "    fill: var(--disabled-fill-color);\n",
              "    box-shadow: none;\n",
              "  }\n",
              "\n",
              "  .colab-df-spinner {\n",
              "    border: 2px solid var(--fill-color);\n",
              "    border-color: transparent;\n",
              "    border-bottom-color: var(--fill-color);\n",
              "    animation:\n",
              "      spin 1s steps(1) infinite;\n",
              "  }\n",
              "\n",
              "  @keyframes spin {\n",
              "    0% {\n",
              "      border-color: transparent;\n",
              "      border-bottom-color: var(--fill-color);\n",
              "      border-left-color: var(--fill-color);\n",
              "    }\n",
              "    20% {\n",
              "      border-color: transparent;\n",
              "      border-left-color: var(--fill-color);\n",
              "      border-top-color: var(--fill-color);\n",
              "    }\n",
              "    30% {\n",
              "      border-color: transparent;\n",
              "      border-left-color: var(--fill-color);\n",
              "      border-top-color: var(--fill-color);\n",
              "      border-right-color: var(--fill-color);\n",
              "    }\n",
              "    40% {\n",
              "      border-color: transparent;\n",
              "      border-right-color: var(--fill-color);\n",
              "      border-top-color: var(--fill-color);\n",
              "    }\n",
              "    60% {\n",
              "      border-color: transparent;\n",
              "      border-right-color: var(--fill-color);\n",
              "    }\n",
              "    80% {\n",
              "      border-color: transparent;\n",
              "      border-right-color: var(--fill-color);\n",
              "      border-bottom-color: var(--fill-color);\n",
              "    }\n",
              "    90% {\n",
              "      border-color: transparent;\n",
              "      border-bottom-color: var(--fill-color);\n",
              "    }\n",
              "  }\n",
              "</style>\n",
              "\n",
              "  <script>\n",
              "    async function quickchart(key) {\n",
              "      const quickchartButtonEl =\n",
              "        document.querySelector('#' + key + ' button');\n",
              "      quickchartButtonEl.disabled = true;  // To prevent multiple clicks.\n",
              "      quickchartButtonEl.classList.add('colab-df-spinner');\n",
              "      try {\n",
              "        const charts = await google.colab.kernel.invokeFunction(\n",
              "            'suggestCharts', [key], {});\n",
              "      } catch (error) {\n",
              "        console.error('Error during call to suggestCharts:', error);\n",
              "      }\n",
              "      quickchartButtonEl.classList.remove('colab-df-spinner');\n",
              "      quickchartButtonEl.classList.add('colab-df-quickchart-complete');\n",
              "    }\n",
              "    (() => {\n",
              "      let quickchartButtonEl =\n",
              "        document.querySelector('#df-dec9fa03-bd6a-4b3d-b55f-0c1ea7fcc8d7 button');\n",
              "      quickchartButtonEl.style.display =\n",
              "        google.colab.kernel.accessAllowed ? 'block' : 'none';\n",
              "    })();\n",
              "  </script>\n",
              "</div>\n",
              "    </div>\n",
              "  </div>\n"
            ],
            "application/vnd.google.colaboratory.intrinsic+json": {
              "type": "dataframe",
              "variable_name": "cpd",
              "summary": "{\n  \"name\": \"cpd\",\n  \"rows\": 24130,\n  \"fields\": [\n    {\n      \"column\": \"cappun\",\n      \"properties\": {\n        \"dtype\": \"category\",\n        \"num_unique_values\": 2,\n        \"samples\": [\n          \"oppose\",\n          \"favor\"\n        ],\n        \"semantic_type\": \"\",\n        \"description\": \"\"\n      }\n    },\n    {\n      \"column\": \"relig\",\n      \"properties\": {\n        \"dtype\": \"category\",\n        \"num_unique_values\": 9,\n        \"samples\": [\n          \"hinduism\",\n          \"none/other\"\n        ],\n        \"semantic_type\": \"\",\n        \"description\": \"\"\n      }\n    },\n    {\n      \"column\": \"age_category\",\n      \"properties\": {\n        \"dtype\": \"number\",\n        \"std\": 1.4643902008562895,\n        \"min\": 1.0,\n        \"max\": 5.0,\n        \"num_unique_values\": 5,\n        \"samples\": [\n          1.0,\n          5.0\n        ],\n        \"semantic_type\": \"\",\n        \"description\": \"\"\n      }\n    },\n    {\n      \"column\": \"polviews\",\n      \"properties\": {\n        \"dtype\": \"category\",\n        \"num_unique_values\": 7,\n        \"samples\": [\n          \"moderate, middle of the road\",\n          \"slightly liberal\"\n        ],\n        \"semantic_type\": \"\",\n        \"description\": \"\"\n      }\n    }\n  ]\n}"
            }
          },
          "metadata": {},
          "execution_count": 23
        }
      ]
    }
  ]
}