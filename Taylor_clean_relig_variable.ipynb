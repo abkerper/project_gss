{
  "cells": [
    {
      "cell_type": "markdown",
      "metadata": {
        "id": "view-in-github",
        "colab_type": "text"
      },
      "source": [
        "<a href=\"https://colab.research.google.com/github/abkerper/project_gss/blob/main/Taylor_clean_relig_variable.ipynb\" target=\"_parent\"><img src=\"https://colab.research.google.com/assets/colab-badge.svg\" alt=\"Open In Colab\"/></a>"
      ]
    },
    {
      "cell_type": "markdown",
      "source": [
        "## Getting the GSS Data\n",
        "\n",
        "Since the data files are about 40GB zipped, we can't store a compressed or uncompressed version on GitHub, and the entire dataset can't really be loaded into memory with Colab.\n",
        "\n",
        "One option is to use Rivana: Download the data, unzip it, and work on it in a persistent environment.\n",
        "\n",
        "The other option is to avoid opening the entire file at once, and instead work with chunks of the data. That's what this code does for you.\n",
        "\n",
        "On GitHub, the data are broken into three smaller files, saved in .parquet format. The code below will load these chunks into memory, one at a time, you can specify the variables you want in `var_list`, and the results will be saved in `selected_gss_data.csv`.\n",
        "\n",
        "You can add more cleaning instructions in between the lines where the data are loaded ( `df = pd.read_parquet(url)`) and the data are saved (`df.loc...`). It's probably easiest to use this code to get only the variables you want, and then clean that subset of the data."
      ],
      "metadata": {
        "id": "1wG5tUBJZAeC"
      },
      "id": "1wG5tUBJZAeC"
    },
    {
      "cell_type": "code",
      "execution_count": 1,
      "id": "898a40de-9f3d-4dfc-8878-cd3badfdbcec",
      "metadata": {
        "id": "898a40de-9f3d-4dfc-8878-cd3badfdbcec",
        "outputId": "eb1c295d-5a16-4c9a-bf3c-309d9d0e4141",
        "colab": {
          "base_uri": "https://localhost:8080/"
        }
      },
      "outputs": [
        {
          "output_type": "stream",
          "name": "stdout",
          "text": [
            "https://github.com/DS3001/project_gss/raw/main/gss_chunk_1.parquet\n",
            "   year  id            wrkstat  hrs1  hrs2 evwork    occ  prestige  \\\n",
            "0  1972   1  working full time   NaN   NaN    NaN  205.0      50.0   \n",
            "1  1972   2            retired   NaN   NaN    yes  441.0      45.0   \n",
            "2  1972   3  working part time   NaN   NaN    NaN  270.0      44.0   \n",
            "3  1972   4  working full time   NaN   NaN    NaN    1.0      57.0   \n",
            "4  1972   5      keeping house   NaN   NaN    yes  385.0      40.0   \n",
            "\n",
            "         wrkslf wrkgovt  ...  agehef12 agehef13 agehef14  hompoph wtssps_nea  \\\n",
            "0  someone else     NaN  ...       NaN      NaN      NaN      NaN        NaN   \n",
            "1  someone else     NaN  ...       NaN      NaN      NaN      NaN        NaN   \n",
            "2  someone else     NaN  ...       NaN      NaN      NaN      NaN        NaN   \n",
            "3  someone else     NaN  ...       NaN      NaN      NaN      NaN        NaN   \n",
            "4  someone else     NaN  ...       NaN      NaN      NaN      NaN        NaN   \n",
            "\n",
            "   wtssnrps_nea  wtssps_next wtssnrps_next wtsscomp wtsscompnr  \n",
            "0           NaN          NaN           NaN   0.4446        NaN  \n",
            "1           NaN          NaN           NaN   0.8893        NaN  \n",
            "2           NaN          NaN           NaN   0.8893        NaN  \n",
            "3           NaN          NaN           NaN   0.8893        NaN  \n",
            "4           NaN          NaN           NaN   0.8893        NaN  \n",
            "\n",
            "[5 rows x 6694 columns]\n",
            "https://github.com/DS3001/project_gss/raw/main/gss_chunk_2.parquet\n",
            "   year   id            wrkstat  hrs1  hrs2 evwork    occ  prestige  \\\n",
            "0  1989  775            retired   NaN   NaN    yes  540.0      36.0   \n",
            "1  1989  776  working full time  40.0   NaN    NaN  925.0      36.0   \n",
            "2  1989  777            retired   NaN   NaN    yes   80.0      61.0   \n",
            "3  1989  778  working full time  44.0   NaN    NaN  912.0      26.0   \n",
            "4  1989  779            retired   NaN   NaN    yes  690.0      32.0   \n",
            "\n",
            "         wrkslf wrkgovt  ...  agehef12 agehef13 agehef14  hompoph wtssps_nea  \\\n",
            "0  someone else     NaN  ...       NaN      NaN      NaN      NaN        NaN   \n",
            "1  someone else     NaN  ...       NaN      NaN      NaN      NaN        NaN   \n",
            "2  someone else     NaN  ...       NaN      NaN      NaN      NaN        NaN   \n",
            "3  someone else     NaN  ...       NaN      NaN      NaN      NaN        NaN   \n",
            "4  someone else     NaN  ...       NaN      NaN      NaN      NaN        NaN   \n",
            "\n",
            "   wtssnrps_nea  wtssps_next wtssnrps_next  wtsscomp wtsscompnr  \n",
            "0           NaN          NaN           NaN  1.295069        NaN  \n",
            "1           NaN          NaN           NaN  0.483624        NaN  \n",
            "2           NaN          NaN           NaN  0.407988        NaN  \n",
            "3           NaN          NaN           NaN  1.225988        NaN  \n",
            "4           NaN          NaN           NaN  0.504302        NaN  \n",
            "\n",
            "[5 rows x 6694 columns]\n",
            "https://github.com/DS3001/project_gss/raw/main/gss_chunk_3.parquet\n",
            "   year    id            wrkstat  hrs1  hrs2 evwork  occ  prestige  \\\n",
            "0  2006  1751  working full time  40.0   NaN    NaN  NaN       NaN   \n",
            "1  2006  1752          in school   NaN   NaN    yes  NaN       NaN   \n",
            "2  2006  1753  working full time  35.0   NaN    NaN  NaN       NaN   \n",
            "3  2006  1754  working full time  50.0   NaN    NaN  NaN       NaN   \n",
            "4  2006  1755  working full time  40.0   NaN    NaN  NaN       NaN   \n",
            "\n",
            "         wrkslf     wrkgovt  ...  agehef12 agehef13 agehef14  hompoph  \\\n",
            "0  someone else  government  ...       NaN      NaN      NaN      NaN   \n",
            "1  someone else     private  ...       NaN      NaN      NaN      NaN   \n",
            "2  someone else  government  ...       NaN      NaN      NaN      NaN   \n",
            "3  someone else  government  ...       NaN      NaN      NaN      NaN   \n",
            "4  someone else     private  ...       NaN      NaN      NaN      NaN   \n",
            "\n",
            "  wtssps_nea  wtssnrps_nea  wtssps_next wtssnrps_next  wtsscomp wtsscompnr  \n",
            "0        NaN           NaN          NaN           NaN  1.079141   0.961150  \n",
            "1        NaN           NaN          NaN           NaN  7.673834   6.641571  \n",
            "2        NaN           NaN          NaN           NaN  0.584663   0.512145  \n",
            "3        NaN           NaN          NaN           NaN  0.715731   0.637592  \n",
            "4        NaN           NaN          NaN           NaN  1.094831   0.956094  \n",
            "\n",
            "[5 rows x 6694 columns]\n"
          ]
        }
      ],
      "source": [
        "import pandas as pd\n",
        "#\n",
        "var_list = ['wrkstat', 'prestige'] # List of variables you want to save\n",
        "output_filename = 'selected_gss_data.csv' # Name of the file you want to save the data to\n",
        "#\n",
        "modes = ['w','a'] # Has write mode and append mode\n",
        "phase = 0 # Starts in write mode; after one iteration of loop, switches to append mode\n",
        "#\n",
        "for k in range(3): # for each chunk of the data\n",
        "    url = 'https://github.com/DS3001/project_gss/raw/main/gss_chunk_' + str(1+k) + '.parquet' # Create url to the chunk to be processed\n",
        "    print(url) # Check the url is correct\n",
        "    df = pd.read_parquet(url) # Download this chunk of data\n",
        "    print(df.head()) # Visually inspect the first few rows\n",
        "    df.loc[:,var_list].to_csv(output_filename, # specifies target file to save the chunk to\n",
        "                              mode=modes[phase], # control write versus append\n",
        "                              header=var_list, # variable names\n",
        "                              index=False) # no row index saved\n",
        "    phase = 1 # Switch from write mode to append mode"
      ]
    },
    {
      "cell_type": "code",
      "source": [
        "df = pd.read_csv(\"./selected_gss_data.csv\", low_memory = False)\n",
        "import pandas as pd\n",
        "df1 = pd.read_parquet('https://github.com/DS3001/project_gss/raw/main/gss_chunk_1.parquet', engine='pyarrow')\n",
        "df2 = pd.read_parquet('https://github.com/DS3001/project_gss/raw/main/gss_chunk_2.parquet', engine='pyarrow')\n",
        "df3 = pd.read_parquet('https://github.com/DS3001/project_gss/raw/main/gss_chunk_3.parquet', engine='pyarrow')\n",
        "df = pd.concat([df1, df2, df3])"
      ],
      "metadata": {
        "id": "PrvD8qhUZV4Y"
      },
      "id": "PrvD8qhUZV4Y",
      "execution_count": 13,
      "outputs": []
    },
    {
      "cell_type": "code",
      "source": [
        "df4 = df.loc[:,['relig', 'polviews', 'age', 'cappun'] ]\n",
        "print(df4['relig'].value_counts())\n",
        "print(df4['relig'].hist(), '/n')"
      ],
      "metadata": {
        "colab": {
          "base_uri": "https://localhost:8080/",
          "height": 906
        },
        "id": "gzcyqjPC69Ca",
        "outputId": "ee99f951-7674-4660-c50e-f44893a94f7b"
      },
      "id": "gzcyqjPC69Ca",
      "execution_count": 32,
      "outputs": [
        {
          "output_type": "stream",
          "name": "stdout",
          "text": [
            "protestant                       40125\n",
            "catholic                         17242\n",
            "none                              9895\n",
            "jewish                            1421\n",
            "other                             1224\n",
            "christian                         1000\n",
            "buddhism                           272\n",
            "muslim/islam                       201\n",
            "orthodox-christian                 176\n",
            "inter-nondenominational            159\n",
            "hinduism                           158\n",
            "other eastern religions             44\n",
            "native american                     36\n",
            "not imputable_(2147483638)           0\n",
            "not available in this year           0\n",
            "not available in this release        0\n",
            "uncodeable                           0\n",
            "skipped on web                       0\n",
            "refused                              0\n",
            "don't know                           0\n",
            "not imputable_(2147483637)           0\n",
            "no answer                            0\n",
            "dk, na, iap                          0\n",
            "I don't have a job                   0\n",
            "iap                                  0\n",
            "see codebook                         0\n",
            "Name: relig, dtype: int64\n",
            "Axes(0.125,0.11;0.775x0.77) /n\n"
          ]
        },
        {
          "output_type": "display_data",
          "data": {
            "text/plain": [
              "<Figure size 640x480 with 1 Axes>"
            ],
            "image/png": "[encoded data removed]"
          },
          "metadata": {}
        }
      ]
    },
    {
      "cell_type": "code",
      "source": [
        "import numpy as np\n",
        "relig = df4['relig']\n",
        "relig = relig.replace(['not imputable_(2147483638)' ,\n",
        "                       'not available in this year' ,\n",
        "                       'not available in this release' ,\n",
        "                       'uncodeable' ,\n",
        "                       'skipped on web' ,\n",
        "                       'refused' ,\n",
        "                       \"don't know\" ,\n",
        "                       'not imputable_(2147483637)' ,\n",
        "                       'no answer' ,\n",
        "                       'dk, na, iap' ,\n",
        "                       \"I don't have a job\" ,\n",
        "                       'iap' ,\n",
        "                       'see codebook'], np.nan)\n",
        "relig.value_counts()"
      ],
      "metadata": {
        "colab": {
          "base_uri": "https://localhost:8080/"
        },
        "id": "2igA4gmuLFbs",
        "outputId": "16d5fc38-ada4-4716-8300-e347c35163a7"
      },
      "id": "2igA4gmuLFbs",
      "execution_count": 65,
      "outputs": [
        {
          "output_type": "execute_result",
          "data": {
            "text/plain": [
              "protestant                 40125\n",
              "catholic                   17242\n",
              "none                        9895\n",
              "jewish                      1421\n",
              "other                       1224\n",
              "christian                   1000\n",
              "buddhism                     272\n",
              "muslim/islam                 201\n",
              "orthodox-christian           176\n",
              "inter-nondenominational      159\n",
              "hinduism                     158\n",
              "other eastern religions       44\n",
              "native american               36\n",
              "Name: relig, dtype: int64"
            ]
          },
          "metadata": {},
          "execution_count": 65
        }
      ]
    }
  ],
  "metadata": {
    "kernelspec": {
      "display_name": "Python 3 (ipykernel)",
      "language": "python",
      "name": "python3"
    },
    "language_info": {
      "codemirror_mode": {
        "name": "ipython",
        "version": 3
      },
      "file_extension": ".py",
      "mimetype": "text/x-python",
      "name": "python",
      "nbconvert_exporter": "python",
      "pygments_lexer": "ipython3",
      "version": "3.11.4"
    },
    "colab": {
      "provenance": [],
      "include_colab_link": true
    }
  },
  "nbformat": 4,
  "nbformat_minor": 5
}