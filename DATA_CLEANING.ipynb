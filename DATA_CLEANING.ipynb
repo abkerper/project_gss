{
  "nbformat": 4,
  "nbformat_minor": 0,
  "metadata": {
    "colab": {
      "provenance": [],
      "include_colab_link": true
    },
    "kernelspec": {
      "name": "python3",
      "display_name": "Python 3"
    },
    "language_info": {
      "name": "python"
    }
  },
  "cells": [
    {
      "cell_type": "markdown",
      "metadata": {
        "id": "view-in-github",
        "colab_type": "text"
      },
      "source": [
        "<a href=\"https://colab.research.google.com/github/abkerper/project_gss/blob/main/DATA_CLEANING.ipynb\" target=\"_parent\"><img src=\"https://colab.research.google.com/assets/colab-badge.svg\" alt=\"Open In Colab\"/></a>"
      ]
    },
    {
      "cell_type": "code",
      "source": [
        "import numpy as np\n",
        "import pandas as pd\n",
        "import matplotlib.pyplot as plt\n",
        "import seaborn as sns"
      ],
      "metadata": {
        "id": "wb3O0vT9TnMp"
      },
      "execution_count": 102,
      "outputs": []
    },
    {
      "cell_type": "code",
      "execution_count": 123,
      "metadata": {
        "id": "lR0XI0pETbjQ"
      },
      "outputs": [],
      "source": [
        "df1_og= pd.read_parquet('/content/gss_chunk_1.parquet', engine='pyarrow')\n",
        "df2_og = pd.read_parquet('/content/gss_chunk_2.parquet', engine='pyarrow')\n",
        "df3_og = pd.read_parquet('/content/gss_chunk_3.parquet', engine='pyarrow')"
      ]
    },
    {
      "cell_type": "code",
      "source": [
        "#make dummy variables of the data\n",
        "df1 = df1_og\n",
        "df2 = df2_og\n",
        "df3 = df3_og"
      ],
      "metadata": {
        "id": "Lr0mmBQlTyUS"
      },
      "execution_count": 124,
      "outputs": []
    },
    {
      "cell_type": "code",
      "source": [
        "df = pd.concat([df1, df2, df3], ignore_index = True )"
      ],
      "metadata": {
        "id": "6L9_2vXLG_wR"
      },
      "execution_count": 125,
      "outputs": []
    },
    {
      "cell_type": "code",
      "source": [
        "print(df['cappun'].value_counts())"
      ],
      "metadata": {
        "colab": {
          "base_uri": "https://localhost:8080/"
        },
        "id": "xXPNXUwgGI3i",
        "outputId": "48831169-257a-4edd-f1f9-2566a1f013e7"
      },
      "execution_count": 126,
      "outputs": [
        {
          "output_type": "stream",
          "name": "stdout",
          "text": [
            "favor                            42181\n",
            "oppose                           18666\n",
            "don't know                           0\n",
            "iap                                  0\n",
            "I don't have a job                   0\n",
            "dk, na, iap                          0\n",
            "no answer                            0\n",
            "not imputable_(2147483637)           0\n",
            "not imputable_(2147483638)           0\n",
            "refused                              0\n",
            "skipped on web                       0\n",
            "uncodeable                           0\n",
            "not available in this release        0\n",
            "not available in this year           0\n",
            "see codebook                         0\n",
            "Name: cappun, dtype: int64\n"
          ]
        }
      ]
    },
    {
      "cell_type": "code",
      "source": [
        "import numpy as np\n",
        "cappun = df['cappun']\n",
        "cappun = cappun.replace(['no answer', 'don\\'t know','iap','refused','skipped on web', 'I don\\'t have a job', 'dk, na, iap', 'not imputable_(2147483637)', 'not imputable_(2147483638)', 'uncodeable', 'not available in this release', 'not available in this year', 'see codebook'], np.nan)\n",
        "cappun.value_counts() #droppped missing values"
      ],
      "metadata": {
        "colab": {
          "base_uri": "https://localhost:8080/"
        },
        "id": "4z9QNsoHGJlU",
        "outputId": "ef96f039-87b5-4ac1-e72c-4fa8a3c18c4d"
      },
      "execution_count": 127,
      "outputs": [
        {
          "output_type": "execute_result",
          "data": {
            "text/plain": [
              "favor     42181\n",
              "oppose    18666\n",
              "Name: cappun, dtype: int64"
            ]
          },
          "metadata": {},
          "execution_count": 127
        }
      ]
    },
    {
      "cell_type": "code",
      "source": [
        "df['cappun'] = cappun #put cleaned variable back in df"
      ],
      "metadata": {
        "id": "5Rv_aHKFGNAX"
      },
      "execution_count": 130,
      "outputs": []
    },
    {
      "cell_type": "code",
      "source": [
        "df1['age_category'] = df1['age']\n",
        "df2['age_category'] = df2['age']\n",
        "df3['age_category'] = df3['age']"
      ],
      "metadata": {
        "id": "PehaqhwSdZ55"
      },
      "execution_count": 131,
      "outputs": []
    },
    {
      "cell_type": "code",
      "source": [
        "for df in [df1, df2, df3]:\n",
        "  df.loc[(df['age'] >= 18) & (df['age'] <= 29), 'age_category'] = 1\n",
        "  df.loc[(df['age'] >= 30) & (df['age'] <= 39), 'age_category'] = 2\n",
        "  df.loc[(df['age'] >= 40) & (df['age'] <= 49), 'age_category'] = 3\n",
        "  df.loc[(df['age'] >= 50) & (df['age'] <= 64), 'age_category'] = 4\n",
        "  df.loc[(df['age'] >= 60) & (df['age'] <= 89), 'age_category'] = 5"
      ],
      "metadata": {
        "id": "S_qlX1wMX5d9"
      },
      "execution_count": 132,
      "outputs": []
    },
    {
      "cell_type": "code",
      "source": [
        "for df in [df1, df2, df3]:\n",
        "  df['age'].replace(0, np.nan)\n",
        "  df['age_category'].replace(0, np.nan)"
      ],
      "metadata": {
        "id": "avJtuaX7Jate"
      },
      "execution_count": 133,
      "outputs": []
    },
    {
      "cell_type": "code",
      "source": [
        "age_category = df['age_category']\n",
        "print(age_category.value_counts())"
      ],
      "metadata": {
        "id": "POMOgo4v7Qqb",
        "outputId": "52be1048-e69d-4455-933e-614bd30f10d9",
        "colab": {
          "base_uri": "https://localhost:8080/"
        }
      },
      "execution_count": 134,
      "outputs": [
        {
          "output_type": "stream",
          "name": "stdout",
          "text": [
            "5.0    7160\n",
            "2.0    4385\n",
            "4.0    4184\n",
            "3.0    4035\n",
            "1.0    3775\n",
            "Name: age_category, dtype: int64\n"
          ]
        }
      ]
    },
    {
      "cell_type": "code",
      "source": [
        "df['age_category'] = age_category #put cleaned variable back in df"
      ],
      "metadata": {
        "id": "Tt5XIQ7QNBTx"
      },
      "execution_count": 135,
      "outputs": []
    },
    {
      "cell_type": "code",
      "source": [
        "polviews = df['polviews']\n",
        "polviews = polviews.replace(['no answer', 'don\\'t know','iap','refused','skipped on web', 'I don\\'t have a job', 'dk, na, iap', 'not imputable_(2147483637)', 'not imputable_(2147483638)', 'uncodeable', 'not available in this release', 'not available in this year', 'see codebook'], np.nan)\n",
        "polviews.value_counts() #dropped missing values"
      ],
      "metadata": {
        "id": "QgH4xhFL9xne",
        "colab": {
          "base_uri": "https://localhost:8080/"
        },
        "outputId": "fb16dca6-c543-42d4-bcc3-805d3252a071"
      },
      "execution_count": 136,
      "outputs": [
        {
          "output_type": "execute_result",
          "data": {
            "text/plain": [
              "moderate, middle of the road    8713\n",
              "conservative                    3679\n",
              "liberal                         3076\n",
              "slightly conservative           3075\n",
              "slightly liberal                2673\n",
              "extremely liberal               1043\n",
              "extremely conservative          1003\n",
              "Name: polviews, dtype: int64"
            ]
          },
          "metadata": {},
          "execution_count": 136
        }
      ]
    },
    {
      "cell_type": "code",
      "source": [
        "df['polviews'] = polviews #put cleaned variable back in df"
      ],
      "metadata": {
        "id": "s77mUcP-IZvr"
      },
      "execution_count": 137,
      "outputs": []
    },
    {
      "cell_type": "code",
      "source": [
        "print(df['relig'].value_counts())"
      ],
      "metadata": {
        "id": "7Rm6Oz4UH8eh",
        "outputId": "3fc89771-2ab2-4936-8335-d1f8dabda3d7",
        "colab": {
          "base_uri": "https://localhost:8080/"
        }
      },
      "execution_count": 138,
      "outputs": [
        {
          "output_type": "stream",
          "name": "stdout",
          "text": [
            "protestant                       11173\n",
            "none                              5326\n",
            "catholic                          5264\n",
            "christian                          745\n",
            "jewish                             392\n",
            "other                              308\n",
            "buddhism                           200\n",
            "muslim/islam                       136\n",
            "hinduism                           117\n",
            "orthodox-christian                 110\n",
            "inter-nondenominational             64\n",
            "other eastern religions             25\n",
            "native american                     23\n",
            "not imputable_(2147483638)           0\n",
            "not available in this year           0\n",
            "not available in this release        0\n",
            "uncodeable                           0\n",
            "skipped on web                       0\n",
            "refused                              0\n",
            "don't know                           0\n",
            "not imputable_(2147483637)           0\n",
            "no answer                            0\n",
            "dk, na, iap                          0\n",
            "I don't have a job                   0\n",
            "iap                                  0\n",
            "see codebook                         0\n",
            "Name: relig, dtype: int64\n"
          ]
        }
      ]
    },
    {
      "cell_type": "code",
      "source": [
        "relig = df['relig']\n",
        "relig = relig.replace(['not imputable_(2147483638)' , #drop missing values\n",
        "                       'not available in this year' ,\n",
        "                       'not available in this release' ,\n",
        "                       'uncodeable' ,\n",
        "                       'skipped on web' ,\n",
        "                       'refused' ,\n",
        "                       \"don't know\" ,\n",
        "                       'not imputable_(2147483637)' ,\n",
        "                       'no answer' ,\n",
        "                       'dk, na, iap' ,\n",
        "                       \"I don't have a job\" ,\n",
        "                       'iap' ,\n",
        "                       'see codebook'], np.nan)\n",
        "relig.value_counts()"
      ],
      "metadata": {
        "id": "UGRP9tujIAbX",
        "outputId": "f603c19e-c865-4f4e-d943-f2e0fa5c0115",
        "colab": {
          "base_uri": "https://localhost:8080/"
        }
      },
      "execution_count": 139,
      "outputs": [
        {
          "output_type": "execute_result",
          "data": {
            "text/plain": [
              "protestant                 11173\n",
              "none                        5326\n",
              "catholic                    5264\n",
              "christian                    745\n",
              "jewish                       392\n",
              "other                        308\n",
              "buddhism                     200\n",
              "muslim/islam                 136\n",
              "hinduism                     117\n",
              "orthodox-christian           110\n",
              "inter-nondenominational       64\n",
              "other eastern religions       25\n",
              "native american               23\n",
              "Name: relig, dtype: int64"
            ]
          },
          "metadata": {},
          "execution_count": 139
        }
      ]
    },
    {
      "cell_type": "code",
      "source": [
        "relig = relig.replace(['christian', 'inter-nondenominational', 'orthodox-christian'], 'christianity') #combine Christian religions to one variable\n",
        "relig = relig.replace(['none', 'other', 'other eastern religions'], 'none/other') #combine none/other religions\n",
        "relig.value_counts()"
      ],
      "metadata": {
        "id": "-9Bawy5GIOJO",
        "outputId": "ffba89ce-8ed0-4e9d-95bd-85fb0acc88a0",
        "colab": {
          "base_uri": "https://localhost:8080/"
        }
      },
      "execution_count": 140,
      "outputs": [
        {
          "output_type": "execute_result",
          "data": {
            "text/plain": [
              "protestant         11173\n",
              "none/other          5659\n",
              "catholic            5264\n",
              "christianity         919\n",
              "jewish               392\n",
              "buddhism             200\n",
              "muslim/islam         136\n",
              "hinduism             117\n",
              "native american       23\n",
              "Name: relig, dtype: int64"
            ]
          },
          "metadata": {},
          "execution_count": 140
        }
      ]
    },
    {
      "cell_type": "code",
      "source": [
        "df['relig'] = relig #put cleaned variable back in df"
      ],
      "metadata": {
        "id": "GGBoulkNII-x"
      },
      "execution_count": 141,
      "outputs": []
    },
    {
      "cell_type": "code",
      "source": [
        "print(pd.crosstab(cappun,relig),'\\n')\n",
        "print(pd.crosstab(cappun,polviews),'\\n')\n",
        "print(pd.crosstab(cappun,age_category, normalize = 'all'),'\\n')"
      ],
      "metadata": {
        "id": "awBRVCsi7fNk",
        "outputId": "e9da6193-81cb-4f3f-bc1c-a43f0c73d396",
        "colab": {
          "base_uri": "https://localhost:8080/"
        }
      },
      "execution_count": 142,
      "outputs": [
        {
          "output_type": "stream",
          "name": "stdout",
          "text": [
            "relig   protestant  catholic  jewish  none/other  buddhism  hinduism  \\\n",
            "cappun                                                                 \n",
            "favor         6432      3086     236        3501       107        79   \n",
            "oppose        2456      1216      99        1296        51        27   \n",
            "\n",
            "relig   muslim/islam  christianity  native american  \n",
            "cappun                                               \n",
            "favor             90           557               15  \n",
            "oppose            26           216                5   \n",
            "\n",
            "polviews  extremely liberal  liberal  slightly liberal  \\\n",
            "cappun                                                   \n",
            "favor                   635     1824              1596   \n",
            "oppose                  256      714               617   \n",
            "\n",
            "polviews  moderate, middle of the road  slightly conservative  conservative  \\\n",
            "cappun                                                                        \n",
            "favor                             5195                   1785          2137   \n",
            "oppose                            1912                    700           847   \n",
            "\n",
            "polviews  extremely conservative  \n",
            "cappun                            \n",
            "favor                        590  \n",
            "oppose                       221   \n",
            "\n",
            "age_category       1.0       2.0       3.0       4.0       5.0\n",
            "cappun                                                        \n",
            "favor         0.114026  0.134213  0.118512  0.127119  0.229044\n",
            "oppose        0.044390  0.051536  0.048198  0.050128  0.082833 \n",
            "\n"
          ]
        }
      ]
    },
    {
      "cell_type": "code",
      "source": [
        "#import clean data back to csv\n",
        "var_list = ['cappun', 'relig','age_category','polviews']\n",
        "df.loc[:,var_list].to_csv('cleaned_data.csv', # specifies target file to save the chunk to\n",
        "                              mode=modes[phase], # control write versus append\n",
        "                              header=var_list, # variable names\n",
        "                              index=False)"
      ],
      "metadata": {
        "id": "VChj3xNSEcJN"
      },
      "execution_count": 121,
      "outputs": []
    }
  ]
}