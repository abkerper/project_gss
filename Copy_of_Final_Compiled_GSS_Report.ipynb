{
  "nbformat": 4,
  "nbformat_minor": 0,
  "metadata": {
    "colab": {
      "provenance": [],
      "include_colab_link": true
    },
    "kernelspec": {
      "name": "python3",
      "display_name": "Python 3"
    },
    "language_info": {
      "name": "python"
    }
  },
  "cells": [
    {
      "cell_type": "markdown",
      "metadata": {
        "id": "view-in-github",
        "colab_type": "text"
      },
      "source": [
        "<a href=\"https://colab.research.google.com/github/abkerper/project_gss/blob/main/Copy_of_Final_Compiled_GSS_Report.ipynb\" target=\"_parent\"><img src=\"https://colab.research.google.com/assets/colab-badge.svg\" alt=\"Open In Colab\"/></a>"
      ]
    },
    {
      "cell_type": "markdown",
      "source": [
        "#GSS Midterm Project: Factors Affecting Capital Punishment Perception"
      ],
      "metadata": {
        "id": "DQiXgqIWCmkQ"
      }
    },
    {
      "cell_type": "markdown",
      "source": [
        "Kiera Murphy, Connor Overbay, Alison Kerber, Annika Richardson, Taylor"
      ],
      "metadata": {
        "id": "A33CKYHOCydv"
      }
    },
    {
      "cell_type": "code",
      "source": [
        "import pandas as pd\n",
        "import numpy as np\n",
        "import matplotlib.pyplot as plt\n",
        "import seaborn as sns"
      ],
      "metadata": {
        "id": "CoPvy2ZfFw3D"
      },
      "execution_count": 1,
      "outputs": []
    },
    {
      "cell_type": "markdown",
      "source": [
        "##Summary:"
      ],
      "metadata": {
        "id": "yfH6WV_wD4_v"
      }
    },
    {
      "cell_type": "markdown",
      "source": [
        "The question that we chose to focus on for the project was the topic of which demographics are highly likely to favor the death penalty. We found this topic to be uniquely interesting because it is a binary categorical variable but there are so many other factors that are present in the data set that are likely to have a strong impact on it. We decided to leverage the method of turning the capital punishment variable into a binary one where “1” represents an individual being in favor of capital punishment and a “0” represents an opposition to it. We then were able to conduct various forms of correlation analyses, and visualizations in the form of bar graphs and histograms that are further expanded upon below. Ultimately, as you will soon be able to see, the results of our analysis clarified that……[results]"
      ],
      "metadata": {
        "id": "YakLMM9sECk2"
      }
    },
    {
      "cell_type": "markdown",
      "source": [
        "##Data:"
      ],
      "metadata": {
        "id": "Uw2Bqa2JECwU"
      }
    },
    {
      "cell_type": "markdown",
      "source": [
        "Data for this study comes from the General Social Survey (GSS), a survey that is carried out through interviews with a cross-section of the US population. The interviews have taken place since 1972 and the organization conducting the survey has kept the methodology consistent over the duration of testing. Questions that remain on the interview are asked in the same manner every year as to not influence results and questions that are newly added are not asked retrospectively to past interviewees. This is a likely source of some null entries seen in the data set, as the question that we are using as a dependent variable was a more recent question. Removing the null values in this situation is valid, as the missing values were missing simply because there was not an opportunity to answer. Also, since we are not comparing change over time in this study, eliminating all early entries before the question appeared on the survey does not affect the results, and is essential for our analysis. Here are the relevant variables that we will be analyzing:"
      ],
      "metadata": {
        "id": "JZ5XkRCqEC4k"
      }
    },
    {
      "cell_type": "code",
      "source": [
        "df = pd.read_csv('/content/cleaned_data (2).csv')\n",
        "df.head()"
      ],
      "metadata": {
        "colab": {
          "base_uri": "https://localhost:8080/",
          "height": 206
        },
        "id": "Vrn6VpJ4F88J",
        "outputId": "4d5a0774-216d-461a-e7c2-4470c424bcd2"
      },
      "execution_count": 3,
      "outputs": [
        {
          "output_type": "execute_result",
          "data": {
            "text/plain": [
              "   cappun         relig  age_category                      polviews\n",
              "0     NaN  christianity           3.0  moderate, middle of the road\n",
              "1   favor    none/other           1.0              slightly liberal\n",
              "2   favor      catholic           3.0         slightly conservative\n",
              "3     NaN    protestant           1.0                       liberal\n",
              "4  oppose      catholic           1.0         slightly conservative"
            ],
            "text/html": [
              "\n",
              "  <div id=\"df-a23e4d92-9ded-40cb-b51f-a7878690ede4\" class=\"colab-df-container\">\n",
              "    <div>\n",
              "<style scoped>\n",
              "    .dataframe tbody tr th:only-of-type {\n",
              "        vertical-align: middle;\n",
              "    }\n",
              "\n",
              "    .dataframe tbody tr th {\n",
              "        vertical-align: top;\n",
              "    }\n",
              "\n",
              "    .dataframe thead th {\n",
              "        text-align: right;\n",
              "    }\n",
              "</style>\n",
              "<table border=\"1\" class=\"dataframe\">\n",
              "  <thead>\n",
              "    <tr style=\"text-align: right;\">\n",
              "      <th></th>\n",
              "      <th>cappun</th>\n",
              "      <th>relig</th>\n",
              "      <th>age_category</th>\n",
              "      <th>polviews</th>\n",
              "    </tr>\n",
              "  </thead>\n",
              "  <tbody>\n",
              "    <tr>\n",
              "      <th>0</th>\n",
              "      <td>NaN</td>\n",
              "      <td>christianity</td>\n",
              "      <td>3.0</td>\n",
              "      <td>moderate, middle of the road</td>\n",
              "    </tr>\n",
              "    <tr>\n",
              "      <th>1</th>\n",
              "      <td>favor</td>\n",
              "      <td>none/other</td>\n",
              "      <td>1.0</td>\n",
              "      <td>slightly liberal</td>\n",
              "    </tr>\n",
              "    <tr>\n",
              "      <th>2</th>\n",
              "      <td>favor</td>\n",
              "      <td>catholic</td>\n",
              "      <td>3.0</td>\n",
              "      <td>slightly conservative</td>\n",
              "    </tr>\n",
              "    <tr>\n",
              "      <th>3</th>\n",
              "      <td>NaN</td>\n",
              "      <td>protestant</td>\n",
              "      <td>1.0</td>\n",
              "      <td>liberal</td>\n",
              "    </tr>\n",
              "    <tr>\n",
              "      <th>4</th>\n",
              "      <td>oppose</td>\n",
              "      <td>catholic</td>\n",
              "      <td>1.0</td>\n",
              "      <td>slightly conservative</td>\n",
              "    </tr>\n",
              "  </tbody>\n",
              "</table>\n",
              "</div>\n",
              "    <div class=\"colab-df-buttons\">\n",
              "\n",
              "  <div class=\"colab-df-container\">\n",
              "    <button class=\"colab-df-convert\" onclick=\"convertToInteractive('df-a23e4d92-9ded-40cb-b51f-a7878690ede4')\"\n",
              "            title=\"Convert this dataframe to an interactive table.\"\n",
              "            style=\"display:none;\">\n",
              "\n",
              "  <svg xmlns=\"http://www.w3.org/2000/svg\" height=\"24px\" viewBox=\"0 -960 960 960\">\n",
              "    <path d=\"M120-120v-720h720v720H120Zm60-500h600v-160H180v160Zm220 220h160v-160H400v160Zm0 220h160v-160H400v160ZM180-400h160v-160H180v160Zm440 0h160v-160H620v160ZM180-180h160v-160H180v160Zm440 0h160v-160H620v160Z\"/>\n",
              "  </svg>\n",
              "    </button>\n",
              "\n",
              "  <style>\n",
              "    .colab-df-container {\n",
              "      display:flex;\n",
              "      gap: 12px;\n",
              "    }\n",
              "\n",
              "    .colab-df-convert {\n",
              "      background-color: #E8F0FE;\n",
              "      border: none;\n",
              "      border-radius: 50%;\n",
              "      cursor: pointer;\n",
              "      display: none;\n",
              "      fill: #1967D2;\n",
              "      height: 32px;\n",
              "      padding: 0 0 0 0;\n",
              "      width: 32px;\n",
              "    }\n",
              "\n",
              "    .colab-df-convert:hover {\n",
              "      background-color: #E2EBFA;\n",
              "      box-shadow: 0px 1px 2px rgba(60, 64, 67, 0.3), 0px 1px 3px 1px rgba(60, 64, 67, 0.15);\n",
              "      fill: #174EA6;\n",
              "    }\n",
              "\n",
              "    .colab-df-buttons div {\n",
              "      margin-bottom: 4px;\n",
              "    }\n",
              "\n",
              "    [theme=dark] .colab-df-convert {\n",
              "      background-color: #3B4455;\n",
              "      fill: #D2E3FC;\n",
              "    }\n",
              "\n",
              "    [theme=dark] .colab-df-convert:hover {\n",
              "      background-color: #434B5C;\n",
              "      box-shadow: 0px 1px 3px 1px rgba(0, 0, 0, 0.15);\n",
              "      filter: drop-shadow(0px 1px 2px rgba(0, 0, 0, 0.3));\n",
              "      fill: #FFFFFF;\n",
              "    }\n",
              "  </style>\n",
              "\n",
              "    <script>\n",
              "      const buttonEl =\n",
              "        document.querySelector('#df-a23e4d92-9ded-40cb-b51f-a7878690ede4 button.colab-df-convert');\n",
              "      buttonEl.style.display =\n",
              "        google.colab.kernel.accessAllowed ? 'block' : 'none';\n",
              "\n",
              "      async function convertToInteractive(key) {\n",
              "        const element = document.querySelector('#df-a23e4d92-9ded-40cb-b51f-a7878690ede4');\n",
              "        const dataTable =\n",
              "          await google.colab.kernel.invokeFunction('convertToInteractive',\n",
              "                                                    [key], {});\n",
              "        if (!dataTable) return;\n",
              "\n",
              "        const docLinkHtml = 'Like what you see? Visit the ' +\n",
              "          '<a target=\"_blank\" href=https://colab.research.google.com/notebooks/data_table.ipynb>data table notebook</a>'\n",
              "          + ' to learn more about interactive tables.';\n",
              "        element.innerHTML = '';\n",
              "        dataTable['output_type'] = 'display_data';\n",
              "        await google.colab.output.renderOutput(dataTable, element);\n",
              "        const docLink = document.createElement('div');\n",
              "        docLink.innerHTML = docLinkHtml;\n",
              "        element.appendChild(docLink);\n",
              "      }\n",
              "    </script>\n",
              "  </div>\n",
              "\n",
              "\n",
              "<div id=\"df-3ac873ea-d5fb-4626-a40a-3b1e765383f5\">\n",
              "  <button class=\"colab-df-quickchart\" onclick=\"quickchart('df-3ac873ea-d5fb-4626-a40a-3b1e765383f5')\"\n",
              "            title=\"Suggest charts\"\n",
              "            style=\"display:none;\">\n",
              "\n",
              "<svg xmlns=\"http://www.w3.org/2000/svg\" height=\"24px\"viewBox=\"0 0 24 24\"\n",
              "     width=\"24px\">\n",
              "    <g>\n",
              "        <path d=\"M19 3H5c-1.1 0-2 .9-2 2v14c0 1.1.9 2 2 2h14c1.1 0 2-.9 2-2V5c0-1.1-.9-2-2-2zM9 17H7v-7h2v7zm4 0h-2V7h2v10zm4 0h-2v-4h2v4z\"/>\n",
              "    </g>\n",
              "</svg>\n",
              "  </button>\n",
              "\n",
              "<style>\n",
              "  .colab-df-quickchart {\n",
              "      --bg-color: #E8F0FE;\n",
              "      --fill-color: #1967D2;\n",
              "      --hover-bg-color: #E2EBFA;\n",
              "      --hover-fill-color: #174EA6;\n",
              "      --disabled-fill-color: #AAA;\n",
              "      --disabled-bg-color: #DDD;\n",
              "  }\n",
              "\n",
              "  [theme=dark] .colab-df-quickchart {\n",
              "      --bg-color: #3B4455;\n",
              "      --fill-color: #D2E3FC;\n",
              "      --hover-bg-color: #434B5C;\n",
              "      --hover-fill-color: #FFFFFF;\n",
              "      --disabled-bg-color: #3B4455;\n",
              "      --disabled-fill-color: #666;\n",
              "  }\n",
              "\n",
              "  .colab-df-quickchart {\n",
              "    background-color: var(--bg-color);\n",
              "    border: none;\n",
              "    border-radius: 50%;\n",
              "    cursor: pointer;\n",
              "    display: none;\n",
              "    fill: var(--fill-color);\n",
              "    height: 32px;\n",
              "    padding: 0;\n",
              "    width: 32px;\n",
              "  }\n",
              "\n",
              "  .colab-df-quickchart:hover {\n",
              "    background-color: var(--hover-bg-color);\n",
              "    box-shadow: 0 1px 2px rgba(60, 64, 67, 0.3), 0 1px 3px 1px rgba(60, 64, 67, 0.15);\n",
              "    fill: var(--button-hover-fill-color);\n",
              "  }\n",
              "\n",
              "  .colab-df-quickchart-complete:disabled,\n",
              "  .colab-df-quickchart-complete:disabled:hover {\n",
              "    background-color: var(--disabled-bg-color);\n",
              "    fill: var(--disabled-fill-color);\n",
              "    box-shadow: none;\n",
              "  }\n",
              "\n",
              "  .colab-df-spinner {\n",
              "    border: 2px solid var(--fill-color);\n",
              "    border-color: transparent;\n",
              "    border-bottom-color: var(--fill-color);\n",
              "    animation:\n",
              "      spin 1s steps(1) infinite;\n",
              "  }\n",
              "\n",
              "  @keyframes spin {\n",
              "    0% {\n",
              "      border-color: transparent;\n",
              "      border-bottom-color: var(--fill-color);\n",
              "      border-left-color: var(--fill-color);\n",
              "    }\n",
              "    20% {\n",
              "      border-color: transparent;\n",
              "      border-left-color: var(--fill-color);\n",
              "      border-top-color: var(--fill-color);\n",
              "    }\n",
              "    30% {\n",
              "      border-color: transparent;\n",
              "      border-left-color: var(--fill-color);\n",
              "      border-top-color: var(--fill-color);\n",
              "      border-right-color: var(--fill-color);\n",
              "    }\n",
              "    40% {\n",
              "      border-color: transparent;\n",
              "      border-right-color: var(--fill-color);\n",
              "      border-top-color: var(--fill-color);\n",
              "    }\n",
              "    60% {\n",
              "      border-color: transparent;\n",
              "      border-right-color: var(--fill-color);\n",
              "    }\n",
              "    80% {\n",
              "      border-color: transparent;\n",
              "      border-right-color: var(--fill-color);\n",
              "      border-bottom-color: var(--fill-color);\n",
              "    }\n",
              "    90% {\n",
              "      border-color: transparent;\n",
              "      border-bottom-color: var(--fill-color);\n",
              "    }\n",
              "  }\n",
              "</style>\n",
              "\n",
              "  <script>\n",
              "    async function quickchart(key) {\n",
              "      const quickchartButtonEl =\n",
              "        document.querySelector('#' + key + ' button');\n",
              "      quickchartButtonEl.disabled = true;  // To prevent multiple clicks.\n",
              "      quickchartButtonEl.classList.add('colab-df-spinner');\n",
              "      try {\n",
              "        const charts = await google.colab.kernel.invokeFunction(\n",
              "            'suggestCharts', [key], {});\n",
              "      } catch (error) {\n",
              "        console.error('Error during call to suggestCharts:', error);\n",
              "      }\n",
              "      quickchartButtonEl.classList.remove('colab-df-spinner');\n",
              "      quickchartButtonEl.classList.add('colab-df-quickchart-complete');\n",
              "    }\n",
              "    (() => {\n",
              "      let quickchartButtonEl =\n",
              "        document.querySelector('#df-3ac873ea-d5fb-4626-a40a-3b1e765383f5 button');\n",
              "      quickchartButtonEl.style.display =\n",
              "        google.colab.kernel.accessAllowed ? 'block' : 'none';\n",
              "    })();\n",
              "  </script>\n",
              "</div>\n",
              "    </div>\n",
              "  </div>\n"
            ],
            "application/vnd.google.colaboratory.intrinsic+json": {
              "type": "dataframe",
              "variable_name": "df",
              "summary": "{\n  \"name\": \"df\",\n  \"rows\": 24130,\n  \"fields\": [\n    {\n      \"column\": \"cappun\",\n      \"properties\": {\n        \"dtype\": \"category\",\n        \"num_unique_values\": 2,\n        \"samples\": [\n          \"oppose\",\n          \"favor\"\n        ],\n        \"semantic_type\": \"\",\n        \"description\": \"\"\n      }\n    },\n    {\n      \"column\": \"relig\",\n      \"properties\": {\n        \"dtype\": \"category\",\n        \"num_unique_values\": 9,\n        \"samples\": [\n          \"hinduism\",\n          \"none/other\"\n        ],\n        \"semantic_type\": \"\",\n        \"description\": \"\"\n      }\n    },\n    {\n      \"column\": \"age_category\",\n      \"properties\": {\n        \"dtype\": \"number\",\n        \"std\": 1.4643902008562895,\n        \"min\": 1.0,\n        \"max\": 5.0,\n        \"num_unique_values\": 5,\n        \"samples\": [\n          1.0,\n          5.0\n        ],\n        \"semantic_type\": \"\",\n        \"description\": \"\"\n      }\n    },\n    {\n      \"column\": \"polviews\",\n      \"properties\": {\n        \"dtype\": \"category\",\n        \"num_unique_values\": 7,\n        \"samples\": [\n          \"moderate, middle of the road\",\n          \"slightly liberal\"\n        ],\n        \"semantic_type\": \"\",\n        \"description\": \"\"\n      }\n    }\n  ]\n}"
            }
          },
          "metadata": {},
          "execution_count": 3
        }
      ]
    },
    {
      "cell_type": "markdown",
      "source": [
        "**Cappun:**\n",
        "Our dependent variable measures whether individuals in the GSS favor or oppose the death penalty. The specific question asked in the survey was: “Do you favor or oppose the death penalty for persons convicted of murder?” Values containing missing data were changed to “nan.”\n"
      ],
      "metadata": {
        "id": "N-rQ2vziEC7P"
      }
    },
    {
      "cell_type": "code",
      "source": [
        "df['cappun'].describe()"
      ],
      "metadata": {
        "colab": {
          "base_uri": "https://localhost:8080/"
        },
        "id": "DJjovgFQFFZI",
        "outputId": "1503ff8c-ebd1-41eb-d141-718f36a68f34"
      },
      "execution_count": 5,
      "outputs": [
        {
          "output_type": "execute_result",
          "data": {
            "text/plain": [
              "count     21938\n",
              "unique        2\n",
              "top       favor\n",
              "freq      13729\n",
              "Name: cappun, dtype: object"
            ]
          },
          "metadata": {},
          "execution_count": 5
        }
      ]
    },
    {
      "cell_type": "markdown",
      "source": [
        "**Age:**\n",
        "Each individual who took the survey entered their age. We cleaned the age variable so that it is grouped into individuals ages 18-29, 30-39, 40-49, 50-64, and 65-89. We chose these age clusters because they were given in the GSS Codebook. All the zero values for age were replaced with “nan.”\n"
      ],
      "metadata": {
        "id": "rw7nBZi2EC9o"
      }
    },
    {
      "cell_type": "code",
      "source": [
        "df['age_category'].info()"
      ],
      "metadata": {
        "colab": {
          "base_uri": "https://localhost:8080/"
        },
        "id": "HXBYCIW4FGO2",
        "outputId": "dad9289f-37f4-4faa-ed54-37c6a0965d68"
      },
      "execution_count": 12,
      "outputs": [
        {
          "output_type": "stream",
          "name": "stdout",
          "text": [
            "<class 'pandas.core.series.Series'>\n",
            "RangeIndex: 24130 entries, 0 to 24129\n",
            "Series name: age_category\n",
            "Non-Null Count  Dtype  \n",
            "--------------  -----  \n",
            "23539 non-null  float64\n",
            "dtypes: float64(1)\n",
            "memory usage: 188.6 KB\n"
          ]
        }
      ]
    },
    {
      "cell_type": "markdown",
      "source": [
        "**Relig:**\n",
        "Individuals were asked about their religious preference: “What is your religious preference? Is it Protestant, Catholic, Jewish, some other religion, or no religion?” The variable takes the values protestant, catholic,  jewish, christian,  buddhist, muslim/islam, hindu, native american, or none/other. Values containing missing data were changed to “nan."
      ],
      "metadata": {
        "id": "fktC-fd-EC_y"
      }
    },
    {
      "cell_type": "code",
      "source": [
        "df['relig'].describe()"
      ],
      "metadata": {
        "colab": {
          "base_uri": "https://localhost:8080/"
        },
        "id": "AsgwCbNBFG9n",
        "outputId": "1a0ef6c2-5e7d-4f74-b551-04a00117af27"
      },
      "execution_count": 8,
      "outputs": [
        {
          "output_type": "execute_result",
          "data": {
            "text/plain": [
              "count          23883\n",
              "unique             9\n",
              "top       protestant\n",
              "freq           11173\n",
              "Name: relig, dtype: object"
            ]
          },
          "metadata": {},
          "execution_count": 8
        }
      ]
    },
    {
      "cell_type": "markdown",
      "source": [
        "**Polviews:**\n",
        "Individuals were asked “We hear a lot of talk these days about liberals and conservatives. I'm going to show you a seven-point scale on which the political views that people might hold are arranged from extremely liberal--point 1--to extremely conservative--point 7. Where would you place yourself on this scale?” The variable takes the values extremely conservative, conservative,  slightly conservative, moderate, slightly liberal, liberal, and extremely liberal. Values containing missing data were changed to “nan.”"
      ],
      "metadata": {
        "id": "5aItqmgXE8Gs"
      }
    },
    {
      "cell_type": "code",
      "source": [
        "df['polviews'].describe()"
      ],
      "metadata": {
        "colab": {
          "base_uri": "https://localhost:8080/"
        },
        "id": "sni-v3u_FH1V",
        "outputId": "239bf314-07eb-4818-a36c-7fe9feda20ed"
      },
      "execution_count": 9,
      "outputs": [
        {
          "output_type": "execute_result",
          "data": {
            "text/plain": [
              "count                            23262\n",
              "unique                               7\n",
              "top       moderate, middle of the road\n",
              "freq                              8713\n",
              "Name: polviews, dtype: object"
            ]
          },
          "metadata": {},
          "execution_count": 9
        }
      ]
    },
    {
      "cell_type": "markdown",
      "source": [
        "##Results:"
      ],
      "metadata": {
        "id": "hxMcUh7uE8JD"
      }
    },
    {
      "cell_type": "markdown",
      "source": [],
      "metadata": {
        "id": "fxP19NmnE8LK"
      }
    },
    {
      "cell_type": "markdown",
      "source": [],
      "metadata": {
        "id": "LkeJTEvEE8QO"
      }
    }
  ]
}