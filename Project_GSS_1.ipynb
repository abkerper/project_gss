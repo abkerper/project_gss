{
  "nbformat": 4,
  "nbformat_minor": 0,
  "metadata": {
    "colab": {
      "provenance": [],
      "authorship_tag": "ABX9TyOPFpt5SSbS8aA7i0w/7Rkw",
      "include_colab_link": true
    },
    "kernelspec": {
      "name": "python3",
      "display_name": "Python 3"
    },
    "language_info": {
      "name": "python"
    }
  },
  "cells": [
    {
      "cell_type": "markdown",
      "metadata": {
        "id": "view-in-github",
        "colab_type": "text"
      },
      "source": [
        "<a href=\"https://colab.research.google.com/github/abkerper/project_gss/blob/main/Project_GSS_1.ipynb\" target=\"_parent\"><img src=\"https://colab.research.google.com/assets/colab-badge.svg\" alt=\"Open In Colab\"/></a>"
      ]
    },
    {
      "cell_type": "code",
      "source": [
        "import numpy as np\n",
        "import pandas as pd\n",
        "import matplotlib.pyplot as plt\n",
        "import seaborn as sns"
      ],
      "metadata": {
        "id": "wb3O0vT9TnMp"
      },
      "execution_count": 81,
      "outputs": []
    },
    {
      "cell_type": "code",
      "execution_count": 82,
      "metadata": {
        "id": "lR0XI0pETbjQ"
      },
      "outputs": [],
      "source": [
        "df1_og= pd.read_parquet('/content/gss_chunk_1.parquet', engine='pyarrow')\n",
        "df2_og = pd.read_parquet('/content/gss_chunk_2.parquet', engine='pyarrow')\n",
        "df3_og = pd.read_parquet('/content/gss_chunk_3.parquet', engine='pyarrow')"
      ]
    },
    {
      "cell_type": "code",
      "source": [
        "df1 = df1_og\n",
        "df2 = df2_og\n",
        "df3 = df3_og"
      ],
      "metadata": {
        "id": "Lr0mmBQlTyUS"
      },
      "execution_count": 83,
      "outputs": []
    },
    {
      "cell_type": "code",
      "source": [
        "df1['age_category'] = df1['age']\n",
        "df2['age_category'] = df2['age']\n",
        "df3['age_category'] = df3['age']"
      ],
      "metadata": {
        "id": "PehaqhwSdZ55"
      },
      "execution_count": 84,
      "outputs": []
    },
    {
      "cell_type": "code",
      "source": [
        "for df in [df1, df2, df3]:\n",
        "  df.loc[(df['age'] >= 18) & (df['age'] <= 29), 'age_category'] = 1\n",
        "  df.loc[(df['age'] >= 30) & (df['age'] <= 39), 'age_category'] = 2\n",
        "  df.loc[(df['age'] >= 40) & (df['age'] <= 49), 'age_category'] = 3\n",
        "  df.loc[(df['age'] >= 50) & (df['age'] <= 64), 'age_category'] = 4\n",
        "  df.loc[(df['age'] >= 60) & (df['age'] <= 89), 'age_category'] = 5"
      ],
      "metadata": {
        "id": "S_qlX1wMX5d9"
      },
      "execution_count": 85,
      "outputs": []
    },
    {
      "cell_type": "code",
      "source": [
        "print(df1['age_category'].describe())\n",
        "print(df2['age_category'].describe())\n",
        "print(df3['age_category'].describe())"
      ],
      "metadata": {
        "colab": {
          "base_uri": "https://localhost:8080/"
        },
        "id": "G_pkylh5d31w",
        "outputId": "9cd99431-0ef2-4ca1-8f8f-2b9de6ac09fd"
      },
      "execution_count": 92,
      "outputs": [
        {
          "output_type": "stream",
          "name": "stdout",
          "text": [
            "count    24021.000000\n",
            "mean         2.907331\n",
            "std          1.516681\n",
            "min          1.000000\n",
            "25%          1.000000\n",
            "50%          3.000000\n",
            "75%          4.000000\n",
            "max          5.000000\n",
            "Name: age_category, dtype: float64\n",
            "count    24061.000000\n",
            "mean         2.991646\n",
            "std          1.431380\n",
            "min          1.000000\n",
            "25%          2.000000\n",
            "50%          3.000000\n",
            "75%          4.000000\n",
            "max          5.000000\n",
            "Name: age_category, dtype: float64\n",
            "count    23539.000000\n",
            "mean         3.279069\n",
            "std          1.464390\n",
            "min          1.000000\n",
            "25%          2.000000\n",
            "50%          3.000000\n",
            "75%          5.000000\n",
            "max          5.000000\n",
            "Name: age_category, dtype: float64\n"
          ]
        }
      ]
    },
    {
      "cell_type": "code",
      "source": [
        "for df in [df1, df2, df3]:\n",
        "  df['age'].replace(0, np.nan)\n",
        "  df['age_category'].replace(0, np.nan)"
      ],
      "metadata": {
        "id": "m-GDD6vKd7by"
      },
      "execution_count": 93,
      "outputs": []
    },
    {
      "cell_type": "code",
      "source": [],
      "metadata": {
        "id": "s2AfBGPZfACl"
      },
      "execution_count": null,
      "outputs": []
    }
  ]
}